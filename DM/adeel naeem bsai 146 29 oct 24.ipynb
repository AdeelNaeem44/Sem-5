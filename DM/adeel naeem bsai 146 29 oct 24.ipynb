{
 "cells": [
  {
   "cell_type": "code",
   "execution_count": 26,
   "metadata": {},
   "outputs": [
    {
     "name": "stdout",
     "output_type": "stream",
     "text": [
      "3.3166247903554\n"
     ]
    }
   ],
   "source": [
    "import math\n",
    "def cal_distance(a,b):\n",
    "    return math.sqrt(sum((e1-e2)**2 for e1,e2 in zip(a,b)))\n",
    "\n",
    "row1=[1,2,3]\n",
    "row2=[4,3,2]\n",
    "d=cal_distance(row1,row2)\n",
    "print(d)\n"
   ]
  },
  {
   "cell_type": "code",
   "execution_count": 16,
   "metadata": {},
   "outputs": [
    {
     "name": "stdout",
     "output_type": "stream",
     "text": [
      "3.3166247903554\n"
     ]
    }
   ],
   "source": [
    "from scipy.spatial.distance import euclidean\n",
    "row1=[1,2,3]\n",
    "row2=[4,3,2]\n",
    "d=euclidean(row1,row2)\n",
    "print(d)"
   ]
  },
  {
   "cell_type": "code",
   "execution_count": 22,
   "metadata": {},
   "outputs": [
    {
     "name": "stdout",
     "output_type": "stream",
     "text": [
      "5\n"
     ]
    }
   ],
   "source": [
    "from scipy.spatial.distance import cityblock\n",
    "row1=[1,2,3]\n",
    "row2=[4,3,2]\n",
    "d=cityblock(row1,row2)\n",
    "print(d)"
   ]
  },
  {
   "cell_type": "code",
   "execution_count": 32,
   "metadata": {},
   "outputs": [
    {
     "name": "stdout",
     "output_type": "stream",
     "text": [
      "5\n"
     ]
    }
   ],
   "source": [
    "\n",
    "def cal_distance(a,b):\n",
    "    return sum(abs(e1-e2) for e1,e2 in zip(a,b))\n",
    "\n",
    "row1=[1,2,3]\n",
    "row2=[4,3,2]\n",
    "d=cal_distance(row1,row2)\n",
    "print(d)"
   ]
  },
  {
   "cell_type": "code",
   "execution_count": 35,
   "metadata": {},
   "outputs": [
    {
     "name": "stdout",
     "output_type": "stream",
     "text": [
      "5.0\n"
     ]
    }
   ],
   "source": [
    "def cal_distance(a,b,p=1):\n",
    "    return sum(abs((e1-e2)**p) for e1,e2 in zip(a,b))**(1/p)\n",
    "\n",
    "row1=[1,2,3]\n",
    "row2=[4,3,2]\n",
    "d=cal_distance(row1,row2)\n",
    "print(d)"
   ]
  },
  {
   "cell_type": "code",
   "execution_count": 38,
   "metadata": {},
   "outputs": [
    {
     "name": "stdout",
     "output_type": "stream",
     "text": [
      "3.3166247903554\n"
     ]
    }
   ],
   "source": [
    "def cal_distance(a,b,p=2):\n",
    "    return sum(abs((e1-e2)**p) for e1,e2 in zip(a,b))**(1/p)\n",
    "\n",
    "row1=[1,2,3]\n",
    "row2=[4,3,2]\n",
    "d=cal_distance(row1,row2)\n",
    "print(d)"
   ]
  },
  {
   "cell_type": "code",
   "execution_count": 42,
   "metadata": {},
   "outputs": [
    {
     "name": "stdout",
     "output_type": "stream",
     "text": [
      "3.3166247903554\n"
     ]
    }
   ],
   "source": [
    "from scipy.spatial import distance\n",
    "row1=[1,2,3]\n",
    "row2=[4,3,2]\n",
    "d= distance.minkowski(row1,row2,2)\n",
    "print(d)"
   ]
  },
  {
   "cell_type": "code",
   "execution_count": 65,
   "metadata": {},
   "outputs": [
    {
     "name": "stdout",
     "output_type": "stream",
     "text": [
      "euclidian distance:10.295630140987\n",
      "Supremum distance: 9\n"
     ]
    }
   ],
   "source": [
    "import numpy as np\n",
    "\n",
    "data = {\n",
    "    'age': {\n",
    "        'ali': 20,\n",
    "        'bilal': 25\n",
    "    },\n",
    "    'salary': {\n",
    "        'ali': 34,\n",
    "        'bilal': 25\n",
    "    },\n",
    "    'grade': {\n",
    "        'ali': 1,  # Assuming 'A' = 1\n",
    "        'bilal': 2, # Assuming 'B' = 1\n",
    "    }\n",
    "}\n",
    "\n",
    "\n",
    "max_grade = 1\n",
    "\n",
    "\n",
    "data['grade']['ali_normalized'] = (data['grade']['ali'] - 1) / (max_grade - 1) if max_grade > 1 else 0\n",
    "data['grade']['bilal_normalized'] = (data['grade']['bilal'] - 1) / (max_grade - 1) if max_grade > 1 else 0\n",
    "\n",
    "\n",
    "ali_values = [data['age']['ali'], data['salary']['ali'], data['grade']['ali_normalized']]\n",
    "bilal_values = [data['age']['bilal'], data['salary']['bilal'], data['grade']['bilal_normalized']]\n",
    "\n",
    "dist = distance.euclidean(ali_values, bilal_values)\n",
    "supremum_distance = np.max(np.abs(np.array(ali_values) - np.array(bilal_values)))\n",
    "print(f\"euclidian distance:{dist}\")\n",
    "print(f\"Supremum distance: {supremum_distance}\")\n"
   ]
  },
  {
   "cell_type": "code",
   "execution_count": null,
   "metadata": {},
   "outputs": [],
   "source": []
  }
 ],
 "metadata": {
  "kernelspec": {
   "display_name": "Python 3",
   "language": "python",
   "name": "python3"
  },
  "language_info": {
   "codemirror_mode": {
    "name": "ipython",
    "version": 3
   },
   "file_extension": ".py",
   "mimetype": "text/x-python",
   "name": "python",
   "nbconvert_exporter": "python",
   "pygments_lexer": "ipython3",
   "version": "3.8.5"
  }
 },
 "nbformat": 4,
 "nbformat_minor": 4
}
