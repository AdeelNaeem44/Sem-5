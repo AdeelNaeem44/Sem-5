{
 "cells": [
  {
   "cell_type": "code",
   "execution_count": 128,
   "metadata": {},
   "outputs": [],
   "source": [
    "import numpy as np\n",
    "def cosine__similarity(x, y):\n",
    "    if len(x) != len(y):\n",
    "        return None\n",
    "    #dot product\n",
    "    dot_product=np.dot(x,y)\n",
    "    \n",
    "    #compute l2 norm of x and y\n",
    "    mag_x=np.sqrt(sum(x**2))\n",
    "    mag_y=np.sqrt(sum(y**2))\n",
    "    \n",
    "    cosine_similarity=dot_product/(mag_x*mag_y)\n",
    "    return cosine_similarity\n",
    "\n",
    "\n",
    "\n",
    "corpus = [ 'data science is one of the most important fields of science',\n",
    " 'this is one of the best data science courses',\n",
    " 'data scientists analyze data' ]\n",
    "    \n"
   ]
  },
  {
   "cell_type": "code",
   "execution_count": 129,
   "metadata": {},
   "outputs": [],
   "source": [
    "from sklearn.feature_extraction.text import CountVectorizer"
   ]
  },
  {
   "cell_type": "code",
   "execution_count": 130,
   "metadata": {},
   "outputs": [],
   "source": [
    "# Create a matrix to represent the corpus\n",
    "X = CountVectorizer().fit_transform(corpus).toarray()"
   ]
  },
  {
   "cell_type": "code",
   "execution_count": 131,
   "metadata": {},
   "outputs": [
    {
     "name": "stdout",
     "output_type": "stream",
     "text": [
      "[[0 0 0 1 1 1 1 1 2 1 2 0 1 0]\n",
      " [0 1 1 1 0 0 1 0 1 1 1 0 1 1]\n",
      " [1 0 0 2 0 0 0 0 0 0 0 1 0 0]]\n"
     ]
    }
   ],
   "source": [
    "print(X)"
   ]
  },
  {
   "cell_type": "code",
   "execution_count": 132,
   "metadata": {},
   "outputs": [],
   "source": [
    "cos_sim_1_2 = cosine__similarity(X[0, :], X[1, :])\n",
    "cos_sim_1_3 = cosine__similarity(X[0, :], X[2, :])\n",
    "cos_sim_2_3 = cosine__similarity(X[1, :], X[2, :])"
   ]
  },
  {
   "cell_type": "code",
   "execution_count": null,
   "metadata": {},
   "outputs": [],
   "source": []
  },
  {
   "cell_type": "code",
   "execution_count": 133,
   "metadata": {},
   "outputs": [
    {
     "name": "stdout",
     "output_type": "stream",
     "text": [
      "Cosine Similarity between: \n",
      "\tDocument 1 and Document 2:  0.6885303726590962\n",
      "\tDocument 1 and Document 3:  0.21081851067789195\n",
      "\tDocument 2 and Document 3:  0.2721655269759087\n"
     ]
    }
   ],
   "source": [
    "print('Cosine Similarity between: ')\n",
    "print('\\tDocument 1 and Document 2: ', cos_sim_1_2)\n",
    "print('\\tDocument 1 and Document 3: ', cos_sim_1_3)\n",
    "print('\\tDocument 2 and Document 3: ', cos_sim_2_3)"
   ]
  },
  {
   "cell_type": "markdown",
   "metadata": {},
   "source": [
    "# Lab TasK"
   ]
  },
  {
   "cell_type": "code",
   "execution_count": 173,
   "metadata": {},
   "outputs": [],
   "source": [
    "from sklearn.feature_extraction.text import CountVectorizer\n",
    "import pandas as pd\n",
    "from sklearn.metrics.pairwise import cosine_similarity"
   ]
  },
  {
   "cell_type": "code",
   "execution_count": 199,
   "metadata": {},
   "outputs": [],
   "source": [
    "twitter = \"\"\"\n",
    "Twitter is an online social media and social networking service owned\n",
    "and operated by American company X Corp.,\n",
    "the legal successor of Twitter, Inc. Twitter users outside the United\n",
    "States are legally served by the Ireland-based\n",
    "Twitter International Unlimited Company, which makes these users\n",
    "subject to Irish and European Union data protection laws.\n",
    "On Twitter users post texts, photos and videos known as 'tweets'.\n",
    "Registered users can tweet, like, 'retweet' tweets,\n",
    "and direct message (DM) other registered users, while unregistered\n",
    "users only have the ability to view public tweets.\n",
    "Users interact with Twitter through browser or mobile frontend\n",
    "software, or programmatically via its APIs.\n",
    "\"\"\""
   ]
  },
  {
   "cell_type": "code",
   "execution_count": 200,
   "metadata": {},
   "outputs": [],
   "source": [
    "facebook = \"\"\"\n",
    "Facebook is an online social media and social networking service owned\n",
    "by American technology giant Meta Platforms.\n",
    "Created in 2004 by Mark Zuckerberg with fellow Harvard College\n",
    "students and roommates Eduardo Saverin, Andrew McCollum,\n",
    "Dustin Moskovitz, and Chris Hughes, its name derives from the face\n",
    "book directories often given to American university students.\n",
    "Membership was initially limited to only Harvard students, gradually\n",
    "expanding to other North American universities and,\n",
    "since 2006, anyone over 13 years old. As of December 2022, Facebook\n",
    "claimed 2.96 billion monthly active users, and ranked third\n",
    "worldwide among the most visited websites. It was the most downloaded\n",
    "mobile app of the 2010s. Facebook can be accessed from devices\n",
    "with Internet connectivity, such as personal computers, tablets and\n",
    "smartphones. After registering, users can create a profile\n",
    "revealing information about themselves. They can post text, photos and\n",
    "multimedia which are shared with any other users who have\n",
    "agreed to be their friend' or, with different privacy settings,\n",
    "publicly. Users can also communicate directly with each other with\n",
    "Messenger, join common-interest groups, and receive notifications on\n",
    "the activities of their Facebook friends and the pages they follow.\n",
    "\"\"\""
   ]
  },
  {
   "cell_type": "code",
   "execution_count": 201,
   "metadata": {},
   "outputs": [],
   "source": [
    "tiktok = \"\"\"\n",
    "TikTok, and its Chinese counterpart Douyin (Chinese: 抖音; pinyin:\n",
    "Dǒuyīn), is a short-form video hosting service owned by ByteDance.\n",
    "It hosts user-submitted videos, which can range in duration from 3\n",
    "seconds to 10 minutes. Since their launches, TikTok and Douyin have\n",
    "gained global popularity.[6][7] In October 2020, TikTok surpassed 2\n",
    "billion mobile downloads worldwide. Morning Consult named TikTok the\n",
    "third-fastest growing brand of 2020, after Zoom and Peacock.\n",
    "Cloudflare ranked TikTok the most popular website of 2021,\n",
    "surpassing google.com.\n",
    "\"\"\"\n"
   ]
  },
  {
   "cell_type": "code",
   "execution_count": 202,
   "metadata": {},
   "outputs": [],
   "source": [
    "instagram = \"\"\"\n",
    "Instagram is a photo and video sharing social networking service owned\n",
    "by American company Meta Platforms. The app allows users to upload media that can be edited with filters and organized by hashtags\n",
    "and geographical tagging. Posts can be shared publicly or\n",
    "with preapproved followers. Users can browse other users' content by\n",
    "tag and location, view trending content, like photos, and follow\n",
    "other users to add their content to a personal feed. Instagram was\n",
    "originally distinguished by allowing content to be framed only in a\n",
    "square (1:1) aspect ratio of 640 pixels to match the display width of\n",
    "the iPhone at the time. In 2015, this restriction was eased with\n",
    "an increase to 1080 pixels. It also added messaging features, the\n",
    "ability to include multiple images or videos in a single post, and a\n",
    "Stories feature—similar to its main competitor Snapchat—which allowed\n",
    "users to post their content to a sequential feed, with each post\n",
    "accessible to others for 24 hours. As of January 2019, Stories is used\n",
    "by 500 million people daily.\n",
    "\"\"\""
   ]
  },
  {
   "cell_type": "code",
   "execution_count": 203,
   "metadata": {},
   "outputs": [],
   "source": [
    "text=[twitter,facebook,tiktok,instagram]"
   ]
  },
  {
   "cell_type": "code",
   "execution_count": 204,
   "metadata": {},
   "outputs": [],
   "source": [
    "numarray=np.array(text)"
   ]
  },
  {
   "cell_type": "code",
   "execution_count": 205,
   "metadata": {},
   "outputs": [
    {
     "data": {
      "text/plain": [
       "array([\"\\nTwitter is an online social media and social networking service owned\\nand operated by American company X Corp.,\\nthe legal successor of Twitter, Inc. Twitter users outside the United\\nStates are legally served by the Ireland-based\\nTwitter International Unlimited Company, which makes these users\\nsubject to Irish and European Union data protection laws.\\nOn Twitter users post texts, photos and videos known as 'tweets'.\\nRegistered users can tweet, like, 'retweet' tweets,\\nand direct message (DM) other registered users, while unregistered\\nusers only have the ability to view public tweets.\\nUsers interact with Twitter through browser or mobile frontend\\nsoftware, or programmatically via its APIs.\\n\",\n",
       "       \"\\nFacebook is an online social media and social networking service owned\\nby American technology giant Meta Platforms.\\nCreated in 2004 by Mark Zuckerberg with fellow Harvard College\\nstudents and roommates Eduardo Saverin, Andrew McCollum,\\nDustin Moskovitz, and Chris Hughes, its name derives from the face\\nbook directories often given to American university students.\\nMembership was initially limited to only Harvard students, gradually\\nexpanding to other North American universities and,\\nsince 2006, anyone over 13 years old. As of December 2022, Facebook\\nclaimed 2.96 billion monthly active users, and ranked third\\nworldwide among the most visited websites. It was the most downloaded\\nmobile app of the 2010s. Facebook can be accessed from devices\\nwith Internet connectivity, such as personal computers, tablets and\\nsmartphones. After registering, users can create a profile\\nrevealing information about themselves. They can post text, photos and\\nmultimedia which are shared with any other users who have\\nagreed to be their friend' or, with different privacy settings,\\npublicly. Users can also communicate directly with each other with\\nMessenger, join common-interest groups, and receive notifications on\\nthe activities of their Facebook friends and the pages they follow.\\n\",\n",
       "       '\\nTikTok, and its Chinese counterpart Douyin (Chinese: 抖音; pinyin:\\nDǒuyīn), is a short-form video hosting service owned by ByteDance.\\nIt hosts user-submitted videos, which can range in duration from 3\\nseconds to 10 minutes. Since their launches, TikTok and Douyin have\\ngained global popularity.[6][7] In October 2020, TikTok surpassed 2\\nbillion mobile downloads worldwide. Morning Consult named TikTok the\\nthird-fastest growing brand of 2020, after Zoom and Peacock.\\nCloudflare ranked TikTok the most popular website of 2021,\\nsurpassing google.com.\\n',\n",
       "       \"\\nInstagram is a photo and video sharing social networking service owned\\nby American company Meta Platforms. The app allows users to upload media that can be edited with filters and organized by hashtags\\nand geographical tagging. Posts can be shared publicly or\\nwith preapproved followers. Users can browse other users' content by\\ntag and location, view trending content, like photos, and follow\\nother users to add their content to a personal feed. Instagram was\\noriginally distinguished by allowing content to be framed only in a\\nsquare (1:1) aspect ratio of 640 pixels to match the display width of\\nthe iPhone at the time. In 2015, this restriction was eased with\\nan increase to 1080 pixels. It also added messaging features, the\\nability to include multiple images or videos in a single post, and a\\nStories feature—similar to its main competitor Snapchat—which allowed\\nusers to post their content to a sequential feed, with each post\\naccessible to others for 24 hours. As of January 2019, Stories is used\\nby 500 million people daily.\\n\"],\n",
       "      dtype='<U1272')"
      ]
     },
     "execution_count": 205,
     "metadata": {},
     "output_type": "execute_result"
    }
   ],
   "source": [
    "numarray"
   ]
  },
  {
   "cell_type": "code",
   "execution_count": 206,
   "metadata": {},
   "outputs": [
    {
     "name": "stdout",
     "output_type": "stream",
     "text": [
      "\n",
      "Twitter is an online social media and social networking service owned\n",
      "and operated by American company X Corp.,\n",
      "the legal successor of Twitter, Inc. Twitter users outside the United\n",
      "States are legally served by the Ireland-based\n",
      "Twitter International Unlimited Company, which makes these users\n",
      "subject to Irish and European Union data protection laws.\n",
      "On Twitter users post texts, photos and videos known as 'tweets'.\n",
      "Registered users can tweet, like, 'retweet' tweets,\n",
      "and direct message (DM) other registered users, while unregistered\n",
      "users only have the ability to view public tweets.\n",
      "Users interact with Twitter through browser or mobile frontend\n",
      "software, or programmatically via its APIs.\n",
      "\n"
     ]
    }
   ],
   "source": [
    "print(text[0])"
   ]
  },
  {
   "cell_type": "code",
   "execution_count": 231,
   "metadata": {},
   "outputs": [],
   "source": [
    "X1 = CountVectorizer().fit_transform(numarray)"
   ]
  },
  {
   "cell_type": "code",
   "execution_count": 212,
   "metadata": {},
   "outputs": [
    {
     "name": "stdout",
     "output_type": "stream",
     "text": [
      "Cosine Similarity between: \n",
      "\n",
      "\n",
      "Document 1 and Document 2:  [[0.49812778]]\n",
      "Document 1 and Document 3:  [[0.23269571]]\n",
      "Document 1 and Document 4:  [[0.49395987]]\n"
     ]
    }
   ],
   "source": [
    "cos_sim_1_2 = cosine_similarity(X1[0], X1[1])\n",
    "cos_sim_1_3 = cosine_similarity(X1[0], X1[2])\n",
    "cos_sim_1_4 = cosine_similarity(X1[0], X1[3])\n",
    "\n",
    "print('Cosine Similarity between: ')\n",
    "print('\\n')\n",
    "print('Document 1 and Document 2: ', cos_sim_1_2)\n",
    "print('Document 1 and Document 3: ', cos_sim_1_3)\n",
    "print('Document 1 and Document 4: ', cos_sim_1_4)\n",
    "\n",
    "\n",
    "\n"
   ]
  },
  {
   "cell_type": "code",
   "execution_count": 221,
   "metadata": {},
   "outputs": [],
   "source": [
    "cos_sim_2_1 = cosine_similarity(X1[1], X1[0])\n",
    "cos_sim_2_3 = cosine_similarity(X1[1], X1[2])\n",
    "cos_sim_1_4 = cosine_similarity(X1[1], X1[3])"
   ]
  },
  {
   "cell_type": "code",
   "execution_count": 227,
   "metadata": {},
   "outputs": [
    {
     "name": "stdout",
     "output_type": "stream",
     "text": [
      "Cosine Similarity between: \n",
      "\n",
      "\n",
      "Document 2 and Document 2:  [[0.49812778]]\n",
      "Document 2 and Document 3:  [[0.34922161]]\n",
      "Document 2 and Document 4:  [[0.60352796]]\n"
     ]
    }
   ],
   "source": [
    "print('Cosine Similarity between: ')\n",
    "print('\\n')\n",
    "print('Document 2 and Document 2: ', cos_sim_2_1)\n",
    "print('Document 2 and Document 3: ', cos_sim_2_3)\n",
    "print('Document 2 and Document 4: ', cos_sim_1_4)\n",
    "\n",
    "\n"
   ]
  },
  {
   "cell_type": "code",
   "execution_count": 225,
   "metadata": {},
   "outputs": [],
   "source": [
    "cos_sim_3_1 = cosine_similarity(X1[2], X1[0])\n",
    "cos_sim_3_2 = cosine_similarity(X1[2], X1[1])\n",
    "cos_sim_3_4 = cosine_similarity(X1[2], X1[3])"
   ]
  },
  {
   "cell_type": "code",
   "execution_count": 226,
   "metadata": {},
   "outputs": [
    {
     "name": "stdout",
     "output_type": "stream",
     "text": [
      "Cosine Similarity between: \n",
      "\n",
      "\n",
      "Document 3 and Document 1:  [[0.23269571]]\n",
      "Document 3 and Document 2:  [[0.34922161]]\n",
      "Document 3 and Document 4:  [[0.3047918]]\n"
     ]
    }
   ],
   "source": [
    "print('Cosine Similarity between: ')\n",
    "print('\\n')\n",
    "print('Document 3 and Document 1: ', cos_sim_3_1)\n",
    "print('Document 3 and Document 2: ', cos_sim_3_2)\n",
    "print('Document 3 and Document 4: ', cos_sim_3_4)"
   ]
  },
  {
   "cell_type": "code",
   "execution_count": 228,
   "metadata": {},
   "outputs": [],
   "source": [
    "cos_sim_4_1 = cosine_similarity(X1[3], X1[0])\n",
    "cos_sim_4_2 = cosine_similarity(X1[3], X1[1])\n",
    "cos_sim_4_3 = cosine_similarity(X1[3], X1[2])"
   ]
  },
  {
   "cell_type": "code",
   "execution_count": 229,
   "metadata": {},
   "outputs": [
    {
     "name": "stdout",
     "output_type": "stream",
     "text": [
      "Cosine Similarity between: \n",
      "\n",
      "\n",
      "Document 4 and Document 1:  [[0.49395987]]\n",
      "Document 4 and Document 2:  [[0.60352796]]\n",
      "Document 4 and Document 3:  [[0.3047918]]\n"
     ]
    }
   ],
   "source": [
    "print('Cosine Similarity between: ')\n",
    "print('\\n')\n",
    "print('Document 4 and Document 1: ', cos_sim_4_1)\n",
    "print('Document 4 and Document 2: ', cos_sim_4_2)\n",
    "print('Document 4 and Document 3: ', cos_sim_4_3)"
   ]
  },
  {
   "cell_type": "code",
   "execution_count": null,
   "metadata": {},
   "outputs": [],
   "source": []
  }
 ],
 "metadata": {
  "kernelspec": {
   "display_name": "Python 3",
   "language": "python",
   "name": "python3"
  },
  "language_info": {
   "codemirror_mode": {
    "name": "ipython",
    "version": 3
   },
   "file_extension": ".py",
   "mimetype": "text/x-python",
   "name": "python",
   "nbconvert_exporter": "python",
   "pygments_lexer": "ipython3",
   "version": "3.8.5"
  }
 },
 "nbformat": 4,
 "nbformat_minor": 4
}
