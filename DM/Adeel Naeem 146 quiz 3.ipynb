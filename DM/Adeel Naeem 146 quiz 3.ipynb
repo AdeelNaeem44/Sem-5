{
 "cells": [
  {
   "cell_type": "code",
   "execution_count": 21,
   "metadata": {},
   "outputs": [
    {
     "name": "stdout",
     "output_type": "stream",
     "text": [
      "Linear Regression Accuracy: 0.7877\n",
      "Linear Regression Confusion Matrix:\n",
      "[[89 16]\n",
      " [22 52]]\n",
      "Linear Regression Precision: 0.7647\n",
      "Linear Regression Recall: 0.7027\n",
      "Linear Regression F-1 Score: 0.7324\n",
      "\n",
      "SVM Accuracy: 0.5866\n",
      "SVM Confusion Matrix:\n",
      "[[105   0]\n",
      " [ 74   0]]\n",
      "SVM Precision: 0.0000\n",
      "SVM Recall: 0.0000\n",
      "SVM F-1 Score: 0.0000\n",
      "\n",
      "Naive Bayes Accuracy: 0.7709\n",
      "Naive Bayes Confusion Matrix:\n",
      "[[76 29]\n",
      " [12 62]]\n",
      "Naive Bayes Precision: 0.6813\n",
      "Naive Bayes Recall: 0.8378\n",
      "Naive Bayes F-1 Score: 0.7515\n",
      "\n"
     ]
    },
    {
     "name": "stderr",
     "output_type": "stream",
     "text": [
      "C:\\ProgramData\\Anaconda3\\lib\\site-packages\\sklearn\\metrics\\_classification.py:1221: UndefinedMetricWarning: Precision is ill-defined and being set to 0.0 due to no predicted samples. Use `zero_division` parameter to control this behavior.\n",
      "  _warn_prf(average, modifier, msg_start, len(result))\n"
     ]
    }
   ],
   "source": [
    "# Importing necessary libraries\n",
    "import pandas as pd\n",
    "import numpy as np\n",
    "from sklearn.model_selection import train_test_split\n",
    "from sklearn.linear_model import LinearRegression\n",
    "from sklearn.svm import SVC\n",
    "from sklearn.naive_bayes import GaussianNB\n",
    "from sklearn.metrics import accuracy_score, confusion_matrix, precision_score, recall_score, fbeta_score\n",
    "df=pd.read_csv(r\"C:\\Users\\student\\Downloads\\train_cleaned_data.csv\")\n",
    "\n",
    "\n",
    "# Splitting the data into features (X) and target (y)\n",
    "X = df.drop(columns=['Survived'])  # Dropping the target column\n",
    "y = df['Survived']  # Target variable\n",
    "\n",
    "# Splitting the dataset into training and testing sets\n",
    "X_train, X_test, y_train, y_test = train_test_split(X, y, test_size=0.2, random_state=42)\n",
    "\n",
    "# Defining the models\n",
    "models = {\n",
    "    'Linear Regression': LinearRegression(),\n",
    "    'SVM': SVC(),\n",
    "    'Naive Bayes': GaussianNB()\n",
    "}\n",
    "\n",
    "# Define the beta value for F-beta score\n",
    "beta = 1  # You can change this value to whatever you prefer\n",
    "\n",
    "# Training and evaluating the models\n",
    "for name, model in models.items():\n",
    "    model.fit(X_train, y_train)\n",
    "    y_pred = model.predict(X_test)\n",
    "    \n",
    "    # For Linear Regression, we round the predictions to get binary values (0 or 1)\n",
    "    if name == 'Linear Regression':\n",
    "        y_pred = (y_pred > 0.5).astype(int)  # Threshold at 0.5\n",
    "    \n",
    "    # Evaluating accuracy\n",
    "    accuracy = accuracy_score(y_test, y_pred)\n",
    "    print(f'{name} Accuracy: {accuracy:.4f}')\n",
    "    \n",
    "    # Generating and printing the confusion matrix\n",
    "    cm = confusion_matrix(y_test, y_pred)\n",
    "    print(f'{name} Confusion Matrix:')\n",
    "    print(cm)\n",
    "    \n",
    "    # Calculating Precision, Recall, and F-beta Score\n",
    "    precision = precision_score(y_test, y_pred)\n",
    "    recall = recall_score(y_test, y_pred)\n",
    "    fbeta = fbeta_score(y_test, y_pred, beta=beta)\n",
    "    \n",
    "    print(f'{name} Precision: {precision:.4f}')\n",
    "    print(f'{name} Recall: {recall:.4f}')\n",
    "    print(f'{name} F-{beta} Score: {fbeta:.4f}')\n",
    "    print()  # Blank line for better readability"
   ]
  },
  {
   "cell_type": "code",
   "execution_count": null,
   "metadata": {},
   "outputs": [],
   "source": []
  }
 ],
 "metadata": {
  "kernelspec": {
   "display_name": "Python 3",
   "language": "python",
   "name": "python3"
  },
  "language_info": {
   "codemirror_mode": {
    "name": "ipython",
    "version": 3
   },
   "file_extension": ".py",
   "mimetype": "text/x-python",
   "name": "python",
   "nbconvert_exporter": "python",
   "pygments_lexer": "ipython3",
   "version": "3.8.5"
  }
 },
 "nbformat": 4,
 "nbformat_minor": 4
}
