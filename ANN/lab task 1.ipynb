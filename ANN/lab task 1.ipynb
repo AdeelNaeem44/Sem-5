{
 "cells": [
  {
   "cell_type": "markdown",
   "metadata": {},
   "source": [
    "Name         Adeel Naeem\n",
    "Roll         Bs-Ai (146)\n"
   ]
  },
  {
   "cell_type": "code",
   "execution_count": 1,
   "metadata": {},
   "outputs": [
    {
     "name": "stdout",
     "output_type": "stream",
     "text": [
      " data:\n",
      "tensor([[6., 2., 8.],\n",
      "        [5., 5., 2.],\n",
      "        [4., 3., 0.]])\n",
      "minimum number is:0.0\n"
     ]
    }
   ],
   "source": [
    "import torch\n",
    "random=torch.randint(low=0,high=9,size=(3,3)).type(torch.FloatTensor)\n",
    "random1=torch.randint(low=0,high=5,size=(3,3)).type(torch.FloatTensor)\n",
    "\n",
    "minimum=torch.min(random)\n",
    "\n",
    "print(f\" data:\\n{random}\")\n",
    "\n",
    "print(f\"minimum number is:{minimum}\")"
   ]
  },
  {
   "cell_type": "markdown",
   "metadata": {},
   "source": [
    "Explaination:\n",
    "\n",
    "torch.randint(low=0, high=9, size=(3,3)): Generates a 3x3 tensor with random integers between 0 and 8.\n",
    ".type(torch.FloatTensor): Converts the tensor's data type to a floating-point tensor (FloatTensor).\n",
    "\n",
    "torch.min(random): Finds and returns the minimum value in the random tensor."
   ]
  },
  {
   "cell_type": "code",
   "execution_count": 2,
   "metadata": {},
   "outputs": [
    {
     "name": "stdout",
     "output_type": "stream",
     "text": [
      "mean of the date set :3.8888888359069824\n"
     ]
    }
   ],
   "source": [
    "means=torch.mean(random)\n",
    "print(f\"mean of the date set :{means}\")"
   ]
  },
  {
   "cell_type": "markdown",
   "metadata": {},
   "source": [
    "Explaination:\n",
    "\n",
    "torch.mean(random): Computes the mean (average) of all the values in the random tensor.\n"
   ]
  },
  {
   "cell_type": "code",
   "execution_count": 3,
   "metadata": {},
   "outputs": [
    {
     "name": "stdout",
     "output_type": "stream",
     "text": [
      "the max number is : 8.0\n"
     ]
    }
   ],
   "source": [
    "maximum=torch.max(random)\n",
    "print(f\"the max number is : {maximum}\")"
   ]
  },
  {
   "cell_type": "markdown",
   "metadata": {},
   "source": [
    "Explaination:\n",
    "\n",
    "torch.max(random): Finds and returns the maximum value in the random tensor."
   ]
  },
  {
   "cell_type": "code",
   "execution_count": 4,
   "metadata": {},
   "outputs": [
    {
     "name": "stdout",
     "output_type": "stream",
     "text": [
      "the over all maximum number is at index :2\n"
     ]
    }
   ],
   "source": [
    "max_all=torch.argmax(random)\n",
    "print(f\"the over all maximum number is at index :{max_all}\")"
   ]
  },
  {
   "cell_type": "markdown",
   "metadata": {},
   "source": [
    "EXlaination:\n",
    "\n",
    "torch.argmax(random): Returns the index of the largest value in the random tensor when flattened."
   ]
  },
  {
   "cell_type": "code",
   "execution_count": 5,
   "metadata": {},
   "outputs": [
    {
     "name": "stdout",
     "output_type": "stream",
     "text": [
      "the minimum number is at index:8\n"
     ]
    }
   ],
   "source": [
    "min_all=torch.argmin(random)\n",
    "print(f\"the minimum number is at index:{min_all}\")"
   ]
  },
  {
   "cell_type": "markdown",
   "metadata": {},
   "source": [
    "Explaination:\n",
    "\n",
    "torch.argmin(random): Returns the index of the smallest value in the random tensor when flattened."
   ]
  },
  {
   "cell_type": "code",
   "execution_count": 6,
   "metadata": {},
   "outputs": [
    {
     "name": "stdout",
     "output_type": "stream",
     "text": [
      "stacked matrices are:\n",
      "tensor([[[6., 2., 8.],\n",
      "         [5., 5., 2.],\n",
      "         [4., 3., 0.]],\n",
      "\n",
      "        [[4., 1., 1.],\n",
      "         [4., 0., 1.],\n",
      "         [2., 1., 2.]]])\n"
     ]
    }
   ],
   "source": [
    "stack=torch.stack([random,random1],dim=0)\n",
    "print(f\"stacked matrices are:\\n{stack}\")"
   ]
  },
  {
   "cell_type": "markdown",
   "metadata": {},
   "source": [
    "Explaination\n",
    "\n",
    "torch.stack([random, random1], dim=0): Stacks(concenate) random and random1 tensors along a new dimension (axis 0).\n"
   ]
  },
  {
   "cell_type": "code",
   "execution_count": 7,
   "metadata": {},
   "outputs": [
    {
     "name": "stdout",
     "output_type": "stream",
     "text": [
      "unsqueezed tensor:\n",
      "tensor([[[6., 2., 8.],\n",
      "         [5., 5., 2.],\n",
      "         [4., 3., 0.]]])\n",
      "squeezed tensor :\n",
      "tensor([[6., 2., 8.],\n",
      "        [5., 5., 2.],\n",
      "        [4., 3., 0.]])\n"
     ]
    }
   ],
   "source": [
    "unsqueezed=torch.unsqueeze(random,dim=0)\n",
    "print(f\"unsqueezed tensor:\\n{unsqueezed}\")\n",
    "squeezed=torch.squeeze(unsqueezed,dim=0)\n",
    "print(f\"squeezed tensor :\\n{squeezed}\")"
   ]
  },
  {
   "cell_type": "markdown",
   "metadata": {},
   "source": [
    "Explaination:\n",
    "\n",
    "torch.unsqueeze(random, dim=0): Adds an extra dimension to the random tensor at position 0.\n",
    "\n",
    "torch.squeeze(unsqueezed, dim=0): Removes the extra dimension from the unsqueezed tensor at position 0."
   ]
  },
  {
   "cell_type": "code",
   "execution_count": 11,
   "metadata": {},
   "outputs": [
    {
     "name": "stdout",
     "output_type": "stream",
     "text": [
      "view the reshape data:\n",
      "tensor([6., 2., 8., 5., 5., 2., 4., 3., 0.])\n",
      "tensor([[6.],\n",
      "        [2.],\n",
      "        [8.],\n",
      "        [5.],\n",
      "        [5.],\n",
      "        [2.],\n",
      "        [4.],\n",
      "        [3.],\n",
      "        [0.]])\n"
     ]
    }
   ],
   "source": [
    "random_view=random.view(-1)\n",
    "print(f\"view the reshape data:\\n{random_view}\")\n",
    "random_reshape=random.view(9,1)\n",
    "print(random_reshape)\n"
   ]
  },
  {
   "cell_type": "markdown",
   "metadata": {},
   "source": [
    "Explaination:"
   ]
  },
  {
   "cell_type": "markdown",
   "metadata": {},
   "source": [
    "random.view(-1): Reshapes the random tensor into a 1D tensor (flattening it).\n",
    "\n",
    "random.view(9, 1): Reshapes the random tensor into a 9x1 matrix."
   ]
  },
  {
   "cell_type": "markdown",
   "metadata": {},
   "source": [
    "     ---------------------------------------  The End  -------------------------------------------"
   ]
  }
 ],
 "metadata": {
  "kernelspec": {
   "display_name": "virtual",
   "language": "python",
   "name": "python3"
  },
  "language_info": {
   "codemirror_mode": {
    "name": "ipython",
    "version": 3
   },
   "file_extension": ".py",
   "mimetype": "text/x-python",
   "name": "python",
   "nbconvert_exporter": "python",
   "pygments_lexer": "ipython3",
   "version": "3.11.9"
  }
 },
 "nbformat": 4,
 "nbformat_minor": 2
}
